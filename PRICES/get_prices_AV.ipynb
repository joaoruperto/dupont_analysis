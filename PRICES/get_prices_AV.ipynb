{
 "cells": [
  {
   "cell_type": "code",
   "execution_count": null,
   "metadata": {
    "ExecuteTime": {
     "end_time": "2022-05-12T13:22:44.927293Z",
     "start_time": "2022-05-12T13:22:42.893002Z"
    }
   },
   "outputs": [],
   "source": [
    "import pandas as pd\n",
    "companies_data = pd.read_excel('info_brazilian_companies.xlsx')\n"
   ]
  },
  {
   "cell_type": "code",
   "execution_count": null,
   "metadata": {
    "ExecuteTime": {
     "end_time": "2022-05-12T13:22:44.943345Z",
     "start_time": "2022-05-12T13:22:44.929340Z"
    }
   },
   "outputs": [],
   "source": [
    "list_companies = companies_data['CODIGO'].to_list()"
   ]
  },
  {
   "cell_type": "markdown",
   "metadata": {
    "heading_collapsed": true
   },
   "source": [
    "# Getting price history from ALPHAVANTAGE"
   ]
  },
  {
   "cell_type": "code",
   "execution_count": null,
   "metadata": {
    "hidden": true
   },
   "outputs": [],
   "source": [
    "## Create your account here: https://www.alphavantage.co/\n",
    "## get you API Key and use where it is indicated\n",
    "## this takes a long time, \n",
    "## since alphavantage free api has a limit of use per minute and per day, I am using a time sleep\n",
    "## you just need to run this code every 4 months, or you could find a better way to get this prices\n",
    "## I tried others APIs like yahoo, but I find ALPHAVANTAGE the best since you get a adjusted price with better quality."
   ]
  },
  {
   "cell_type": "code",
   "execution_count": null,
   "metadata": {
    "ExecuteTime": {
     "end_time": "2022-05-12T13:35:56.462297Z",
     "start_time": "2022-05-12T13:23:38.117756Z"
    },
    "hidden": true
   },
   "outputs": [],
   "source": [
    "from alpha_vantage.timeseries import TimeSeries\n",
    "import traceback\n",
    "\n",
    "ALPHAVANTAGE_API_KEY = 'USE_YOUR_ALPHAVANTAGE_KEY_HERE'\n",
    "\n",
    "ts = TimeSeries(key=ALPHAVANTAGE_API_KEY, output_format='pandas')\n",
    "\n",
    "import time\n",
    "\n",
    "for companie in list_companies:\n",
    "\n",
    "    try:\n",
    "        dados, meta_dados = ts.get_monthly_adjusted(symbol='%s.SAO'%companie)\n",
    "        dados.to_csv('monthly/%s.csv'%companie)\n",
    "        print(\"got %s\" %companie)\n",
    "        time.sleep(15)\n",
    "\n",
    "        \n",
    "    except Exception:\n",
    "        traceback.print_exc()\n",
    "        print(\"did not get %s\" %companie)\n",
    "        time.sleep(15)\n",
    "        continue\n",
    "    \n",
    "    "
   ]
  },
  {
   "cell_type": "code",
   "execution_count": null,
   "metadata": {
    "ExecuteTime": {
     "end_time": "2022-05-12T13:38:05.429640Z",
     "start_time": "2022-05-12T13:38:05.391440Z"
    },
    "hidden": true
   },
   "outputs": [],
   "source": [
    "from os import listdir\n",
    "from os.path import isfile, join\n",
    "onlyfiles = [f for f in listdir(\"monthly/\") if isfile(join(\"monthly/\", f))]"
   ]
  },
  {
   "cell_type": "code",
   "execution_count": null,
   "metadata": {
    "ExecuteTime": {
     "end_time": "2022-05-12T13:41:45.240075Z",
     "start_time": "2022-05-12T13:41:43.208665Z"
    },
    "hidden": true
   },
   "outputs": [],
   "source": [
    "for nome in onlyfiles:\n",
    "    arq = pd.read_csv('monthly/%s'%nome)\n",
    "    arq['symbol'] = nome[0:5]\n",
    "    arq.to_csv('monthly/%s'%nome)"
   ]
  },
  {
   "cell_type": "code",
   "execution_count": null,
   "metadata": {
    "ExecuteTime": {
     "end_time": "2022-05-12T13:42:08.614019Z",
     "start_time": "2022-05-12T13:42:04.668964Z"
    },
    "hidden": true
   },
   "outputs": [],
   "source": [
    "arquivo = pd.DataFrame() \n",
    "for nome in onlyfiles: \n",
    "    arquivo = pd.concat([arquivo, pd.read_csv('monthly/%s'%nome)]) \n",
    "arquivo.to_csv('monthly/todos_precos_montlhy_AV.csv', index='date')"
   ]
  },
  {
   "cell_type": "code",
   "execution_count": null,
   "metadata": {
    "hidden": true
   },
   "outputs": [],
   "source": []
  }
 ],
 "metadata": {
  "kernelspec": {
   "display_name": "Python 3",
   "language": "python",
   "name": "python3"
  },
  "language_info": {
   "codemirror_mode": {
    "name": "ipython",
    "version": 3
   },
   "file_extension": ".py",
   "mimetype": "text/x-python",
   "name": "python",
   "nbconvert_exporter": "python",
   "pygments_lexer": "ipython3",
   "version": "3.7.3"
  },
  "toc": {
   "base_numbering": 1,
   "nav_menu": {},
   "number_sections": true,
   "sideBar": true,
   "skip_h1_title": false,
   "title_cell": "Table of Contents",
   "title_sidebar": "Contents",
   "toc_cell": false,
   "toc_position": {},
   "toc_section_display": true,
   "toc_window_display": false
  }
 },
 "nbformat": 4,
 "nbformat_minor": 2
}
