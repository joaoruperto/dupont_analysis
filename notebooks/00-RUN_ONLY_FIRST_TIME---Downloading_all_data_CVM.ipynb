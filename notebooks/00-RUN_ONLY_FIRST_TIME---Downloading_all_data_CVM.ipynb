{
 "cells": [
  {
   "cell_type": "code",
   "execution_count": null,
   "metadata": {
    "ExecuteTime": {
     "end_time": "2022-06-29T14:06:35.976212Z",
     "start_time": "2022-06-29T14:06:35.961251Z"
    }
   },
   "outputs": [],
   "source": [
    "import pandas as pd\n",
    "import os\n",
    "import numpy as np\n",
    "import datetime\n",
    "from dateutil.relativedelta import relativedelta\n",
    "\n",
    "\n",
    "\n",
    "this_year = datetime.datetime.today().strftime('%Y')"
   ]
  },
  {
   "cell_type": "code",
   "execution_count": null,
   "metadata": {
    "ExecuteTime": {
     "end_time": "2022-06-29T16:27:11.522405Z",
     "start_time": "2022-06-29T16:27:11.507106Z"
    }
   },
   "outputs": [],
   "source": [
    "directories = ['BACKUPS',\n",
    "'BACKUPS/capital_social',\n",
    "'BACKUPS/final_data',\n",
    "'BACKUPS/info_companies',\n",
    "'BACKUPS/last_results',\n",
    "'BACKUPS/medias',\n",
    "'BACKUPS/pivoted_data',\n",
    "'BACKUPS/price',\n",
    "'BACKUPS/proventos',\n",
    "'BACKUPS/results',\n",
    "'BACKUPS/results/bpa',\n",
    "'BACKUPS/results/bpp',\n",
    "'BACKUPS/results/dfcmi',\n",
    "'BACKUPS/results/dmpl',\n",
    "'BACKUPS/results/dre',\n",
    "'BACKUPS/results/dva',\n",
    "'clean_data',\n",
    "'clean_data/companies_results',\n",
    "'clean_data/companies_results/BPA',\n",
    "'clean_data/companies_results/BPP',\n",
    "'clean_data/companies_results/DFCMI',\n",
    "'clean_data/companies_results/DMPL',\n",
    "'clean_data/companies_results/DRE',\n",
    "'clean_data/companies_results/DVA',\n",
    "'clean_data/dividends',\n",
    "'clean_data/final_data',\n",
    "'clean_data/info_companies',\n",
    "'clean_data/pivoted_data',\n",
    "'merged_data_cvm',\n",
    "'merged_data_cvm/new_data',\n",
    "'merged_data_cvm/new_data/DFP',\n",
    "'merged_data_cvm/new_data/FCA',\n",
    "'merged_data_cvm/new_data/FRE',\n",
    "'merged_data_cvm/new_data/ITR',\n",
    "'merged_data_cvm/old_data',\n",
    "'merged_data_cvm/old_data/DFP',\n",
    "'merged_data_cvm/old_data/ITR',\n",
    "'PRICES',\n",
    "'PRICES/monthly',\n",
    "'raw_data_B3',\n",
    "'raw_data_B3/capital_social',\n",
    "'raw_data_B3/proventos',\n",
    "'raw_data_B3/proventos/eventos_corporativos',\n",
    "'raw_data_B3/proventos/historico',\n",
    "'raw_data_cvm',\n",
    "'raw_data_cvm/dfp',\n",
    "'raw_data_cvm/dfp/DFP',\n",
    "'raw_data_cvm/fca',\n",
    "'raw_data_cvm/fca/FCA',\n",
    "'raw_data_cvm/fre',\n",
    "'raw_data_cvm/fre/FRE',\n",
    "'raw_data_cvm/itr',\n",
    "'raw_data_cvm/itr/ITR',\n",
    "'VALUATION']"
   ]
  },
  {
   "cell_type": "code",
   "execution_count": null,
   "metadata": {
    "ExecuteTime": {
     "end_time": "2022-06-29T16:27:53.104355Z",
     "start_time": "2022-06-29T16:27:53.092970Z"
    }
   },
   "outputs": [],
   "source": [
    "for path in directories:\n",
    "    isExist = os.path.exists(path)\n",
    "\n",
    "    if not isExist:\n",
    "  \n",
    "      os.makedirs(path)"
   ]
  },
  {
   "cell_type": "markdown",
   "metadata": {},
   "source": [
    "# DOWNLOADING ZIP FROM CVM\n"
   ]
  },
  {
   "cell_type": "code",
   "execution_count": null,
   "metadata": {
    "ExecuteTime": {
     "end_time": "2022-06-29T13:54:09.311632Z",
     "start_time": "2022-06-29T13:53:13.206963Z"
    },
    "code_folding": [
     0
    ]
   },
   "outputs": [],
   "source": [
    "# Downloading all annual results\n",
    "\"\"\"## Acessando a base de dados e criando arquivos históricos\"\"\"\n",
    "    \n",
    "from zipfile import ZipFile\n",
    "import os\n",
    "import wget\n",
    "\n",
    "url_base = 'http://dados.cvm.gov.br/dados/CIA_ABERTA/DOC/DFP/DADOS/'\n",
    "\n",
    "\"\"\"* criando uma lista com o nome de todos os arquivos\"\"\"\n",
    "\n",
    "arquivos_zip = []\n",
    "for ano in range(2010,2023):\n",
    "    arquivos_zip.append(f'dfp_cia_aberta_{ano}.zip')\n",
    "\n",
    "arquivos_zip\n",
    "\n",
    "\"\"\"* fazendo o download de todos os arquivos\"\"\"\n",
    "\n",
    "path='raw_data_cvm/dfp'\n",
    "isExist = os.path.exists(path)\n",
    "\n",
    "if not isExist:\n",
    "  \n",
    "  os.makedirs(path)\n",
    "\n",
    "    \n",
    "    \n",
    "for arq in arquivos_zip:\n",
    "    wget.download(url_base+arq, out=path)\n",
    "        \n",
    "\"\"\"* extraindo os arquivos zip\"\"\"\n",
    "\n",
    "for arq in arquivos_zip:\n",
    "    ZipFile(path+'/'+arq, 'r').extractall(path+'/DFP')"
   ]
  },
  {
   "cell_type": "code",
   "execution_count": null,
   "metadata": {
    "ExecuteTime": {
     "end_time": "2022-06-29T13:57:14.642282Z",
     "start_time": "2022-06-29T13:54:09.316168Z"
    },
    "code_folding": [
     0
    ]
   },
   "outputs": [],
   "source": [
    "# Downloading all quarter results (it takes time)\n",
    "\"\"\"## Acessando a base de dados e criando arquivos históricos\"\"\"\n",
    "    \n",
    "from zipfile import ZipFile\n",
    "import os\n",
    "import wget\n",
    "\n",
    "url_base = 'http://dados.cvm.gov.br/dados/CIA_ABERTA/DOC/ITR/DADOS/'\n",
    "\n",
    "\"\"\"* criando uma lista com o nome de todos os arquivos\"\"\"\n",
    "\n",
    "arquivos_zip = []\n",
    "for ano in range(2011,2023):\n",
    "    arquivos_zip.append(f'itr_cia_aberta_{ano}.zip')\n",
    "\n",
    "arquivos_zip\n",
    "\n",
    "\"\"\"* fazendo o download de todos os arquivos\"\"\"\n",
    "\n",
    "path='raw_data_cvm/itr'\n",
    "isExist = os.path.exists(path)\n",
    "\n",
    "if not isExist:\n",
    "  \n",
    "  os.makedirs(path)\n",
    "\n",
    "    \n",
    "    \n",
    "for arq in arquivos_zip:\n",
    "    wget.download(url_base+arq, out=path)\n",
    "        \n",
    "\"\"\"* extraindo os arquivos zip\"\"\"\n",
    "\n",
    "for arq in arquivos_zip:\n",
    "    ZipFile(path+'/'+arq, 'r').extractall(path+'/ITR')"
   ]
  },
  {
   "cell_type": "code",
   "execution_count": null,
   "metadata": {
    "ExecuteTime": {
     "end_time": "2022-06-29T13:57:59.711035Z",
     "start_time": "2022-06-29T13:57:14.648279Z"
    },
    "code_folding": [
     0
    ]
   },
   "outputs": [],
   "source": [
    "# Downloading all FRE\n",
    "\"\"\"## Acessando a base de dados e criando arquivos históricos\"\"\"\n",
    "    \n",
    "from zipfile import ZipFile\n",
    "import os\n",
    "import wget\n",
    "\n",
    "url_base = 'http://dados.cvm.gov.br/dados/CIA_ABERTA/DOC/FRE/DADOS/'\n",
    "\n",
    "\"\"\"* criando uma lista com o nome de todos os arquivos\"\"\"\n",
    "\n",
    "arquivos_zip = []\n",
    "for ano in range(2010,2023):\n",
    "    arquivos_zip.append(f'fre_cia_aberta_{ano}.zip')\n",
    "\n",
    "arquivos_zip\n",
    "\n",
    "\"\"\"* fazendo o download de todos os arquivos\"\"\"\n",
    "\n",
    "path='raw_data_cvm/fre'\n",
    "isExist = os.path.exists(path)\n",
    "\n",
    "if not isExist:\n",
    "  \n",
    "  os.makedirs(path)\n",
    "\n",
    "    \n",
    "    \n",
    "for arq in arquivos_zip:\n",
    "    wget.download(url_base+arq, out=path)\n",
    "        \n",
    "\"\"\"* extraindo os arquivos zip\"\"\"\n",
    "\n",
    "for arq in arquivos_zip:\n",
    "    ZipFile(path+'/'+arq, 'r').extractall(path+'/FRE')"
   ]
  },
  {
   "cell_type": "code",
   "execution_count": null,
   "metadata": {
    "ExecuteTime": {
     "end_time": "2022-06-29T13:58:10.194556Z",
     "start_time": "2022-06-29T13:57:59.716360Z"
    },
    "code_folding": []
   },
   "outputs": [],
   "source": [
    "# Dowloading all FCA\n",
    "\"\"\"## Acessando a base de dados e criando arquivos históricos\"\"\"\n",
    "    \n",
    "from zipfile import ZipFile\n",
    "import os\n",
    "import wget\n",
    "\n",
    "url_base = 'http://dados.cvm.gov.br/dados/CIA_ABERTA/DOC/FCA/DADOS/'\n",
    "\n",
    "\"\"\"* criando uma lista com o nome de todos os arquivos\"\"\"\n",
    "\n",
    "arquivos_zip = []\n",
    "for ano in range(2010,2023):\n",
    "    arquivos_zip.append(f'fca_cia_aberta_{ano}.zip')\n",
    "\n",
    "arquivos_zip\n",
    "\n",
    "\"\"\"* fazendo o download de todos os arquivos\"\"\"\n",
    "\n",
    "path='raw_data_cvm/fca'\n",
    "isExist = os.path.exists(path)\n",
    "\n",
    "if not isExist:\n",
    "  \n",
    "  os.makedirs(path)\n",
    "\n",
    "    \n",
    "    \n",
    "for arq in arquivos_zip:\n",
    "    wget.download(url_base+arq, out=path)\n",
    "        \n",
    "\"\"\"* extraindo os arquivos zip\"\"\"\n",
    "\n",
    "for arq in arquivos_zip:\n",
    "    ZipFile(path+'/'+arq, 'r').extractall(path+'/FCA')"
   ]
  },
  {
   "cell_type": "markdown",
   "metadata": {
    "heading_collapsed": true
   },
   "source": [
    "# Concating 2010-2016 data"
   ]
  },
  {
   "cell_type": "code",
   "execution_count": null,
   "metadata": {
    "ExecuteTime": {
     "end_time": "2022-06-29T14:00:14.346829Z",
     "start_time": "2022-06-29T13:59:19.820882Z"
    },
    "code_folding": [],
    "hidden": true
   },
   "outputs": [],
   "source": [
    "## CONCATING DFP 2010-2016\n",
    "nomes = ['BPA_con', 'BPA_ind', 'BPP_con', 'BPP_ind', 'DFC_MI_con', 'DFC_MI_ind', 'DRE_con', 'DRE_ind', 'DVA_con', 'DVA_ind', 'DFC_MD_con', 'DFC_MD_ind']\n",
    "for nome in nomes:\n",
    "    arquivo = pd.DataFrame()\n",
    "    for ano in range(2010,2017):\n",
    "        arquivo = pd.concat([arquivo, pd.read_csv(f'raw_data_cvm/dfp/DFP/dfp_cia_aberta_{nome}_{ano}.csv', sep=';', decimal=',', encoding='ISO-8859-1')])\n",
    "    \n",
    "    arquivo['VL_CONTA'] = arquivo['VL_CONTA'].apply(lambda x: float(x))\n",
    "    arquivo.to_pickle(f'merged_data_cvm/old_data/DFP/dfp_cia_aberta_{nome}_2010-2016.pkl')\n"
   ]
  },
  {
   "cell_type": "code",
   "execution_count": null,
   "metadata": {
    "ExecuteTime": {
     "end_time": "2022-06-29T14:01:16.538658Z",
     "start_time": "2022-06-29T14:00:42.810533Z"
    },
    "hidden": true
   },
   "outputs": [],
   "source": [
    "## CONCATING DMPL 2010-2016\n",
    "nomes = ['DMPL_con','DMPL_ind']\n",
    "for nome in nomes:\n",
    "    arquivo = pd.DataFrame()\n",
    "    for ano in range(2010,2017):\n",
    "        arquivo = pd.concat([arquivo, pd.read_csv(f'raw_data_cvm/dfp/DFP/dfp_cia_aberta_{nome}_{ano}.csv', sep=';', decimal=',', encoding='ISO-8859-1')])\n",
    "    \n",
    "    arquivo['COLUNA_DF'] =np.select([arquivo['COLUNA_DF'].isna()],['PL CON'],arquivo['COLUNA_DF'])\n",
    "    \n",
    "    dmplass = ['Patrimônio Líquido Consolidado','Participação dos Não Controladores','Patrimônio Líquido','Reservas de Lucro',\n",
    "          'Lucros ou Prejuízos Acumulados','PL CON']\n",
    "    arquivo = arquivo.query(\"COLUNA_DF == @dmplass\")\n",
    "    arquivo = arquivo.query(\"DS_CONTA == ['Saldos Iniciais','Saldos Finais']\")\n",
    "    arquivo['VL_CONTA'] = arquivo['VL_CONTA'].apply(lambda x: float(x))\n",
    "    \n",
    "    arquivo.to_pickle(f'merged_data_cvm/old_data/DFP/dfp_cia_aberta_{nome}_2010-2016.pkl')"
   ]
  },
  {
   "cell_type": "code",
   "execution_count": null,
   "metadata": {
    "ExecuteTime": {
     "end_time": "2022-06-29T14:04:27.787586Z",
     "start_time": "2022-06-29T14:02:13.511054Z"
    },
    "hidden": true
   },
   "outputs": [],
   "source": [
    "## CONCATING ITR 2011-2016\n",
    "nomes = ['BPA_con', 'BPA_ind', 'BPP_con', 'BPP_ind', 'DFC_MI_con', 'DFC_MI_ind', 'DRE_con', 'DRE_ind', 'DVA_con', 'DVA_ind', 'DFC_MD_con', 'DFC_MD_ind']\n",
    "for nome in nomes:\n",
    "    arquivo = pd.DataFrame()\n",
    "    for ano in range(2011,2017):\n",
    "        arquivo = pd.concat([arquivo, pd.read_csv(f'raw_data_cvm/itr/ITR/itr_cia_aberta_{nome}_{ano}.csv', sep=';', decimal=',', encoding='ISO-8859-1')])\n",
    "    \n",
    "    arquivo['VL_CONTA'] = arquivo['VL_CONTA'].apply(lambda x: float(x))    \n",
    "    arquivo.to_pickle(f'merged_data_cvm/old_data//ITR/itr_cia_aberta_{nome}_2011-2016.pkl')"
   ]
  },
  {
   "cell_type": "code",
   "execution_count": null,
   "metadata": {
    "ExecuteTime": {
     "end_time": "2022-06-29T14:05:43.426281Z",
     "start_time": "2022-06-29T14:04:27.793054Z"
    },
    "hidden": true
   },
   "outputs": [],
   "source": [
    "## CONCATING DMPL QUARTELY 2011-2016\n",
    "\n",
    "nomes = ['DMPL_con','DMPL_ind']\n",
    "for nome in nomes:\n",
    "    arquivo = pd.DataFrame()\n",
    "    for ano in range(2011,2017):\n",
    "        arquivo = pd.concat([arquivo, pd.read_csv(f'raw_data_cvm/itr/ITR/itr_cia_aberta_{nome}_{ano}.csv', sep=';', decimal=',', encoding='ISO-8859-1')])\n",
    "    \n",
    "    arquivo['COLUNA_DF'] =np.select([arquivo['COLUNA_DF'].isna()],['PL CON'],arquivo['COLUNA_DF'])\n",
    "    \n",
    "    dmplass = ['Patrimônio Líquido Consolidado','Participação dos Não Controladores','Patrimônio Líquido','Reservas de Lucro',\n",
    "          'Lucros ou Prejuízos Acumulados','PL CON']\n",
    "    arquivo = arquivo.query(\"COLUNA_DF == @dmplass\")\n",
    "    arquivo = arquivo.query(\"DS_CONTA == ['Saldos Iniciais','Saldos Finais']\")   \n",
    "    \n",
    "    arquivo['VL_CONTA'] = arquivo['VL_CONTA'].apply(lambda x: float(x))\n",
    "    arquivo.to_pickle(f'merged_data_cvm/old_data/ITR/itr_cia_aberta_{nome}_2011-2016.pkl')"
   ]
  },
  {
   "cell_type": "code",
   "execution_count": null,
   "metadata": {
    "ExecuteTime": {
     "end_time": "2022-06-29T14:06:52.524180Z",
     "start_time": "2022-06-29T14:06:42.918422Z"
    },
    "hidden": true
   },
   "outputs": [],
   "source": [
    "## Getting ALL FRE'S FROM 2010 TO 2021\n",
    "nomes = ['posicao_acionaria','distribuicao_capital']\n",
    "for nome in nomes:\n",
    "    arquivo = pd.DataFrame()\n",
    "    for ano in range(2010,int(this_year)+1):\n",
    "        arquivo = pd.concat([arquivo, pd.read_csv(f'raw_data_cvm/fre/FRE/fre_cia_aberta_{nome}_{ano}.csv', sep=';', decimal=',', encoding='ISO-8859-1')])\n",
    "    arquivo.to_pickle(f'merged_data_cvm/new_data/FRE/fre_cia_aberta_{nome}_tudo.pkl')\n"
   ]
  },
  {
   "cell_type": "code",
   "execution_count": null,
   "metadata": {
    "ExecuteTime": {
     "end_time": "2022-06-29T14:06:53.122583Z",
     "start_time": "2022-06-29T14:06:52.528169Z"
    },
    "hidden": true
   },
   "outputs": [],
   "source": [
    "## Getting ALL FCA'S FROM 2010 TO 2021\n",
    "nomes = ['geral']\n",
    "for nome in nomes:\n",
    "    arquivo = pd.DataFrame()\n",
    "    for ano in range(2010,int(this_year)+1):\n",
    "        arquivo = pd.concat([arquivo, pd.read_csv(f'raw_data_cvm/fca/FCA/fca_cia_aberta_{nome}_{ano}.csv', sep=';', decimal=',', encoding='ISO-8859-1')])\n",
    "    arquivo.to_pickle(f'merged_data_cvm/new_data/FCA/fca_cia_aberta_{nome}_tudo.pkl')\n"
   ]
  },
  {
   "cell_type": "code",
   "execution_count": null,
   "metadata": {
    "hidden": true
   },
   "outputs": [],
   "source": []
  }
 ],
 "metadata": {
  "kernelspec": {
   "display_name": "Python 3 (ipykernel)",
   "language": "python",
   "name": "python3"
  },
  "language_info": {
   "codemirror_mode": {
    "name": "ipython",
    "version": 3
   },
   "file_extension": ".py",
   "mimetype": "text/x-python",
   "name": "python",
   "nbconvert_exporter": "python",
   "pygments_lexer": "ipython3",
   "version": "3.7.13"
  },
  "toc": {
   "base_numbering": 1,
   "nav_menu": {},
   "number_sections": true,
   "sideBar": true,
   "skip_h1_title": false,
   "title_cell": "Table of Contents",
   "title_sidebar": "Contents",
   "toc_cell": false,
   "toc_position": {},
   "toc_section_display": true,
   "toc_window_display": false
  }
 },
 "nbformat": 4,
 "nbformat_minor": 2
}
