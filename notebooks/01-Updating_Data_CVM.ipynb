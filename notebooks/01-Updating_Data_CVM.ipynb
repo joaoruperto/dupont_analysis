{
 "cells": [
  {
   "cell_type": "code",
   "execution_count": null,
   "metadata": {
    "ExecuteTime": {
     "end_time": "2022-06-28T17:00:36.967720Z",
     "start_time": "2022-06-28T17:00:35.933794Z"
    }
   },
   "outputs": [],
   "source": [
    "import pandas as pd\n",
    "import numpy as np\n",
    "from dateutil.relativedelta import relativedelta\n",
    "import datetime\n",
    "import os\n",
    "import wget\n",
    "from zipfile import ZipFile\n",
    "\n",
    "this_year = datetime.datetime.today().strftime('%Y')"
   ]
  },
  {
   "cell_type": "markdown",
   "metadata": {},
   "source": [
    "# ATUALIZA ULTIMOS DADOS LANÇADOS NA CVM"
   ]
  },
  {
   "cell_type": "code",
   "execution_count": null,
   "metadata": {
    "ExecuteTime": {
     "end_time": "2022-06-28T17:04:49.611558Z",
     "start_time": "2022-06-28T17:04:30.987077Z"
    },
    "code_folding": [
     0
    ]
   },
   "outputs": [],
   "source": [
    "# Updating last years results\n",
    "\n",
    "\n",
    "url_base = 'http://dados.cvm.gov.br/dados/CIA_ABERTA/DOC/DFP/DADOS/'\n",
    "\n",
    "\"\"\"* criando uma lista com o nome de todos os arquivos\"\"\"\n",
    "\n",
    "arquivos_zip = []\n",
    "for ano in range(2017,int(this_year)+1):\n",
    "    arquivos_zip.append(f'dfp_cia_aberta_{ano}.zip')\n",
    "\n",
    "arquivos_zip\n",
    "\n",
    "\"\"\"* fazendo o download de todos os arquivos\"\"\"\n",
    "\n",
    "path='raw_data_cvm/dfp'\n",
    "isExist = os.path.exists(path)\n",
    "\n",
    "if not isExist:\n",
    "  \n",
    "  os.makedirs(path)\n",
    "\n",
    "    \n",
    "    \n",
    "for arq in arquivos_zip:\n",
    "    if os.path.exists(path+'/'+arq):\n",
    "        os.remove(path+'/'+arq)\n",
    "    wget.download(url_base+arq, out=path)\n",
    "        \n",
    "\"\"\"* extraindo os arquivos zip\"\"\"\n",
    "\n",
    "for arq in arquivos_zip:\n",
    "    ZipFile(path+'/'+arq, 'r').extractall(path+'/DFP')"
   ]
  },
  {
   "cell_type": "code",
   "execution_count": null,
   "metadata": {
    "ExecuteTime": {
     "end_time": "2022-06-28T17:12:12.494839Z",
     "start_time": "2022-06-28T17:10:58.257293Z"
    },
    "code_folding": [
     0
    ]
   },
   "outputs": [],
   "source": [
    "## Updating quartely results\n",
    "\n",
    "\n",
    "url_base = 'http://dados.cvm.gov.br/dados/CIA_ABERTA/DOC/ITR/DADOS/'\n",
    "\n",
    "\"\"\"* criando uma lista com o nome de todos os arquivos\"\"\"\n",
    "\n",
    "arquivos_zip = [] \n",
    "for ano in range(2017,int(this_year)+1): \n",
    "    arquivos_zip.append(f'itr_cia_aberta_{ano}.zip')\n",
    "\n",
    "\n",
    "\n",
    "\"\"\"* fazendo o download de todos os arquivos\"\"\"\n",
    "\n",
    "path='raw_data_cvm/itr'\n",
    "isExist = os.path.exists(path)\n",
    "\n",
    "if not isExist:\n",
    "  \n",
    "  os.makedirs(path)\n",
    "\n",
    "    \n",
    "    \n",
    "for arq in arquivos_zip:\n",
    "    if os.path.exists(path+'/'+arq):\n",
    "        os.remove(path+'/'+arq)\n",
    "    wget.download(url_base+arq, out=path)\n",
    "\n",
    "\"\"\"* extraindo os arquivos zip\"\"\"\n",
    "\n",
    "for arq in arquivos_zip: \n",
    "    ZipFile(path+'/'+arq, 'r').extractall(path+'/ITR')"
   ]
  },
  {
   "cell_type": "code",
   "execution_count": null,
   "metadata": {
    "ExecuteTime": {
     "end_time": "2022-06-28T17:12:44.139908Z",
     "start_time": "2022-06-28T17:12:12.496537Z"
    },
    "code_folding": [
     0
    ]
   },
   "outputs": [],
   "source": [
    "## Updating FRE\n",
    "\n",
    "url_base = 'http://dados.cvm.gov.br/dados/CIA_ABERTA/DOC/FRE/DADOS/'\n",
    "\n",
    "\"\"\"* criando uma lista com o nome de todos os arquivos\"\"\"\n",
    "\n",
    "arquivos_zip = []\n",
    "for ano in range(2010,int(this_year)+1):\n",
    "  arquivos_zip.append(f'fre_cia_aberta_{ano}.zip')\n",
    "\n",
    "arquivos_zip\n",
    "\n",
    "\"\"\"* fazendo o download de todos os arquivos\"\"\"\n",
    "\n",
    "path='raw_data_cvm/fre'\n",
    "isExist = os.path.exists(path)\n",
    "\n",
    "if not isExist:\n",
    "  \n",
    "  os.makedirs(path)\n",
    "\n",
    "    \n",
    "    \n",
    "for arq in arquivos_zip:\n",
    "    if os.path.exists(path+'/'+arq):\n",
    "        os.remove(path+'/'+arq)\n",
    "    wget.download(url_base+arq, out=path)\n",
    "\n",
    "\"\"\"* extraindo os arquivos zip\"\"\"\n",
    "\n",
    "for arq in arquivos_zip:\n",
    "  ZipFile(path+'/'+arq, 'r').extractall(path+'/FRE')"
   ]
  },
  {
   "cell_type": "code",
   "execution_count": null,
   "metadata": {
    "ExecuteTime": {
     "end_time": "2022-06-28T17:12:49.044458Z",
     "start_time": "2022-06-28T17:12:44.142551Z"
    },
    "code_folding": [
     0
    ]
   },
   "outputs": [],
   "source": [
    "## Updating FCA\n",
    "\n",
    "\n",
    "url_base = 'http://dados.cvm.gov.br/dados/CIA_ABERTA/DOC/FCA/DADOS/'\n",
    "\n",
    "\"\"\"* criando uma lista com o nome de todos os arquivos\"\"\"\n",
    "\n",
    "arquivos_zip = []\n",
    "for ano in range(2011,int(this_year)+1):\n",
    "  arquivos_zip.append(f'fca_cia_aberta_{ano}.zip')\n",
    "\n",
    "arquivos_zip\n",
    "\n",
    "\"\"\"* fazendo o download de todos os arquivos\"\"\"\n",
    "\n",
    "path='raw_data_cvm/fca'\n",
    "isExist = os.path.exists(path)\n",
    "\n",
    "if not isExist:\n",
    "  \n",
    "  os.makedirs(path)\n",
    "\n",
    "    \n",
    "    \n",
    "for arq in arquivos_zip:\n",
    "    if os.path.exists(path+'/'+arq):\n",
    "        os.remove(path+'/'+arq)\n",
    "    wget.download(url_base+arq, out=path)\n",
    "\n",
    "\"\"\"* extraindo os arquivos zip\"\"\"\n",
    "\n",
    "for arq in arquivos_zip:\n",
    "  ZipFile(path+'/'+arq, 'r').extractall(path+'/FCA')"
   ]
  },
  {
   "cell_type": "code",
   "execution_count": null,
   "metadata": {},
   "outputs": [],
   "source": []
  },
  {
   "cell_type": "code",
   "execution_count": null,
   "metadata": {},
   "outputs": [],
   "source": []
  }
 ],
 "metadata": {
  "kernelspec": {
   "display_name": "Python 3 (ipykernel)",
   "language": "python",
   "name": "python3"
  },
  "language_info": {
   "codemirror_mode": {
    "name": "ipython",
    "version": 3
   },
   "file_extension": ".py",
   "mimetype": "text/x-python",
   "name": "python",
   "nbconvert_exporter": "python",
   "pygments_lexer": "ipython3",
   "version": "3.7.13"
  },
  "toc": {
   "base_numbering": 1,
   "nav_menu": {},
   "number_sections": true,
   "sideBar": true,
   "skip_h1_title": false,
   "title_cell": "Table of Contents",
   "title_sidebar": "Contents",
   "toc_cell": false,
   "toc_position": {},
   "toc_section_display": true,
   "toc_window_display": false
  }
 },
 "nbformat": 4,
 "nbformat_minor": 2
}
